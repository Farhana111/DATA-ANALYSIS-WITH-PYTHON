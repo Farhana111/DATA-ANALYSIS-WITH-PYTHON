{
  "nbformat": 4,
  "nbformat_minor": 0,
  "metadata": {
    "colab": {
      "name": "Untitled8.ipynb",
      "provenance": [],
      "authorship_tag": "ABX9TyNlYp3YdaPcUAMI8HAFDm5X",
      "include_colab_link": true
    },
    "kernelspec": {
      "name": "python3",
      "display_name": "Python 3"
    },
    "language_info": {
      "name": "python"
    }
  },
  "cells": [
    {
      "cell_type": "markdown",
      "metadata": {
        "id": "view-in-github",
        "colab_type": "text"
      },
      "source": [
        "<a href=\"https://colab.research.google.com/github/Farhana111/DATA-ANALYSIS-WITH-PYTHON/blob/main/Romantointeger.ipynb\" target=\"_parent\"><img src=\"https://colab.research.google.com/assets/colab-badge.svg\" alt=\"Open In Colab\"/></a>"
      ]
    },
    {
      "cell_type": "code",
      "execution_count": null,
      "metadata": {
        "id": "lLQlH-K-ynU-"
      },
      "outputs": [],
      "source": [
        "I=1\n",
        "V=5\n",
        "X=10\n",
        "L=50\n",
        "C=100\n",
        "D=500\n",
        "M=1000\n",
        "\n",
        "def romanToInt(s):\n",
        "  \n"
      ]
    },
    {
      "cell_type": "code",
      "source": [
        "dict_number={'I':1,'V':5,'X':10,'L':50,'C':100,'D':500,'M':1000}\n",
        "type(dict_number)\n",
        "s=III\n",
        "for i in len(s):\n",
        "  "
      ],
      "metadata": {
        "id": "mpiy91pjzFo7",
        "outputId": "17e8c33d-18b5-4216-887d-0b1cf91e60fa",
        "colab": {
          "base_uri": "https://localhost:8080/"
        }
      },
      "execution_count": null,
      "outputs": [
        {
          "output_type": "execute_result",
          "data": {
            "text/plain": [
              "dict"
            ]
          },
          "metadata": {},
          "execution_count": 9
        }
      ]
    },
    {
      "cell_type": "code",
      "source": [
        "I=1\n",
        "V=5\n",
        "X=10\n",
        "L=50\n",
        "C=100\n",
        "D=500\n",
        "M=1000\n",
        "\n",
        "s='III'\n",
        "s_list=list(s)\n",
        "number=0\n",
        "for i in range(0,len(s)):\n",
        "  \n",
        "  print(i,s[i])\n",
        "a=I+I+I\n",
        "a\n",
        "s[0]+s[1]\n",
        "s_list[0]+s_list[1]\n",
        "s_list.index(\"I\")"
      ],
      "metadata": {
        "id": "lQascFfl0enS",
        "outputId": "b8bb8677-d16e-4392-8928-e44c63e06465",
        "colab": {
          "base_uri": "https://localhost:8080/"
        }
      },
      "execution_count": null,
      "outputs": [
        {
          "output_type": "stream",
          "name": "stdout",
          "text": [
            "0 I\n",
            "1 I\n",
            "2 I\n"
          ]
        },
        {
          "output_type": "execute_result",
          "data": {
            "text/plain": [
              "0"
            ]
          },
          "metadata": {},
          "execution_count": 45
        }
      ]
    },
    {
      "cell_type": "markdown",
      "source": [
        "# SUM"
      ],
      "metadata": {
        "id": "vjYOip-gIJqB"
      }
    },
    {
      "cell_type": "code",
      "source": [
        "Romans=[\"I\",\"V\",\"X\",\"L\",\"C\",\"D\",\"M\"]\n",
        "Numbers=[1,5,10,50,100,500,1000]\n",
        "st=\"III\"\n",
        "s=list(st)\n",
        "last=s[-1]\n",
        "index=Romans.index(last)\n",
        "sum=Numbers[index]\n",
        "list_index=[]\n",
        "for i in range(0,len(s),1):\n",
        "  for j in range(0,len(Romans),1):\n",
        "    if s[i]==Romans[j]:\n",
        "      list_index.append(j)\n",
        "list_index\n",
        "\n"
      ],
      "metadata": {
        "colab": {
          "base_uri": "https://localhost:8080/"
        },
        "id": "RGSi0Qhg7PZX",
        "outputId": "234734cf-1dd1-4050-9947-5f1d5709e033"
      },
      "execution_count": null,
      "outputs": [
        {
          "output_type": "execute_result",
          "data": {
            "text/plain": [
              "[0, 0, 0]"
            ]
          },
          "metadata": {},
          "execution_count": 127
        }
      ]
    },
    {
      "cell_type": "code",
      "source": [
        "Romans=[\"I\",\"V\",\"X\",\"L\",\"C\",\"D\",\"M\"]\n",
        "Numbers=[1,5,10,50,100,500,1000]\n",
        "st=\"XIV\"\n",
        "s=list(st)\n",
        "last=s[-1]\n",
        "index=Romans.index(last)\n",
        "sum=Numbers[index]\n",
        "list_index=[]\n",
        "for i in range(0,len(s),1):\n",
        "  for j in range(0,len(Romans),1):\n",
        "    if s[i]==Romans[j]:\n",
        "      list_index.append(j)\n",
        "\n",
        "Romans=[\"I\",\"V\",\"X\",\"L\",\"C\",\"D\",\"M\"]\n",
        "Numbers=[1,5,10,50,100,500,1000]\n",
        "print(list_index)\n",
        "\n",
        "Numbers[list_index[-1]]\n",
        "if list_index[-2] <list_index[-1]:\n",
        "  integer=Numbers[list_index[-1]]-Numbers[list_index[-2]]\n",
        "else:\n",
        "  integer=Numbers[list_index[-1]]+Numbers[list_index[-2]]\n",
        "integer\n",
        "\n"
      ],
      "metadata": {
        "colab": {
          "base_uri": "https://localhost:8080/"
        },
        "outputId": "ec8f9869-d9b6-488a-f7d0-b46e61c680b8",
        "id": "KxZw89ZaT2om"
      },
      "execution_count": null,
      "outputs": [
        {
          "output_type": "stream",
          "name": "stdout",
          "text": [
            "[2, 0, 1]\n"
          ]
        },
        {
          "output_type": "execute_result",
          "data": {
            "text/plain": [
              "4"
            ]
          },
          "metadata": {},
          "execution_count": 135
        }
      ]
    },
    {
      "cell_type": "code",
      "source": [
        "Romans=[\"I\",\"V\",\"X\",\"L\",\"C\",\"D\",\"M\"]\n",
        "Numbers=[1,5,10,50,100,500,1000]\n",
        "st=\"XIII\"\n",
        "s=list(st)\n",
        "last=s[-1]\n",
        "index=Romans.index(last)\n",
        "sum=Numbers[index]\n",
        "list_index=[]\n",
        "for i in range(0,len(s),1):\n",
        "  for j in range(0,len(Romans),1):\n",
        "    if s[i]==Romans[j]:\n",
        "      list_index.append(j)\n",
        "\n",
        "Romans=[\"I\",\"V\",\"X\",\"L\",\"C\",\"D\",\"M\"]\n",
        "Numbers=[1,5,10,50,100,500,1000]\n",
        "print(list_index)\n",
        "\n",
        "integer=Numbers[list_index[-1]]\n",
        "for i in range(-2,-(len(list_index)+1),-1):\n",
        "  if list_index[i] <list_index[i+1]:\n",
        "    integer=integer-Numbers[list_index[i]]\n",
        "  elif list_index[i] >list_index[i+1]:\n",
        "    integer=integer+Numbers[list_index[i]]\n",
        "integer"
      ],
      "metadata": {
        "id": "bxnaK54EVdj6",
        "outputId": "e37a7a18-1b96-498e-98d0-f4b066c787c9",
        "colab": {
          "base_uri": "https://localhost:8080/",
          "height": 235
        }
      },
      "execution_count": 28,
      "outputs": [
        {
          "output_type": "error",
          "ename": "TypeError",
          "evalue": "ignored",
          "traceback": [
            "\u001b[0;31m---------------------------------------------------------------------------\u001b[0m",
            "\u001b[0;31mTypeError\u001b[0m                                 Traceback (most recent call last)",
            "\u001b[0;32m<ipython-input-28-320ea3a87bf7>\u001b[0m in \u001b[0;36m<module>\u001b[0;34m()\u001b[0m\n\u001b[1;32m      2\u001b[0m \u001b[0mNumbers\u001b[0m\u001b[0;34m=\u001b[0m\u001b[0;34m[\u001b[0m\u001b[0;36m1\u001b[0m\u001b[0;34m,\u001b[0m\u001b[0;36m5\u001b[0m\u001b[0;34m,\u001b[0m\u001b[0;36m10\u001b[0m\u001b[0;34m,\u001b[0m\u001b[0;36m50\u001b[0m\u001b[0;34m,\u001b[0m\u001b[0;36m100\u001b[0m\u001b[0;34m,\u001b[0m\u001b[0;36m500\u001b[0m\u001b[0;34m,\u001b[0m\u001b[0;36m1000\u001b[0m\u001b[0;34m]\u001b[0m\u001b[0;34m\u001b[0m\u001b[0;34m\u001b[0m\u001b[0m\n\u001b[1;32m      3\u001b[0m \u001b[0mst\u001b[0m\u001b[0;34m=\u001b[0m\u001b[0;34m\"XIII\"\u001b[0m\u001b[0;34m\u001b[0m\u001b[0;34m\u001b[0m\u001b[0m\n\u001b[0;32m----> 4\u001b[0;31m \u001b[0ms\u001b[0m\u001b[0;34m=\u001b[0m\u001b[0mlist\u001b[0m\u001b[0;34m(\u001b[0m\u001b[0mst\u001b[0m\u001b[0;34m)\u001b[0m\u001b[0;34m\u001b[0m\u001b[0;34m\u001b[0m\u001b[0m\n\u001b[0m\u001b[1;32m      5\u001b[0m \u001b[0mlast\u001b[0m\u001b[0;34m=\u001b[0m\u001b[0ms\u001b[0m\u001b[0;34m[\u001b[0m\u001b[0;34m-\u001b[0m\u001b[0;36m1\u001b[0m\u001b[0;34m]\u001b[0m\u001b[0;34m\u001b[0m\u001b[0;34m\u001b[0m\u001b[0m\n\u001b[1;32m      6\u001b[0m \u001b[0mindex\u001b[0m\u001b[0;34m=\u001b[0m\u001b[0mRomans\u001b[0m\u001b[0;34m.\u001b[0m\u001b[0mindex\u001b[0m\u001b[0;34m(\u001b[0m\u001b[0mlast\u001b[0m\u001b[0;34m)\u001b[0m\u001b[0;34m\u001b[0m\u001b[0;34m\u001b[0m\u001b[0m\n",
            "\u001b[0;31mTypeError\u001b[0m: 'list' object is not callable"
          ]
        }
      ]
    },
    {
      "cell_type": "code",
      "source": [
        "Romans=[\"I\",\"V\",\"X\",\"L\",\"C\",\"D\",\"M\"]\n",
        "Numbers=[1,5,10,50,100,500,1000]\n",
        "string=\"IV\"\n",
        "s=list(string)\n",
        "# last=s[-1]\n",
        "# index=Romans.index(last)\n",
        "# sum=Numbers[index]\n",
        "# list_index=[]\n",
        "# for i in range(0,len(s),1):\n",
        "#   for j in range(0,len(Romans),1):\n",
        "#     if s[i]==Romans[j]:\n",
        "#       list_index.append(j)\n",
        "\n",
        "# Romans=[\"I\",\"V\",\"X\",\"L\",\"C\",\"D\",\"M\"]\n",
        "# Romans_1=[\"I\",\"X\",\"C\"]\n",
        "# Romans_2=[[\"V\",\"X\"],[\"L\",\"C\"],[\"D\",\"M\"]]\n",
        "# Numbers=[1,5,10,50,100,500,1000]\n",
        "# print(list_index)\n",
        "\n",
        "# integer=0\n",
        "\n",
        "# for i in list_index:\n",
        "#   integer=integer+Numbers[i]\n",
        "#   # if (i in [0,2,4]):\n",
        "  #   if (Numbers)\n",
        "  #   integer=integer+Numbers[list_index[i]]\n",
        "  #   print(\"first condition\", integer)\n",
        "  # else:\n",
        "  #   integer=integer-Numbers[list_index[i]]\n",
        "  #   print(\"else condition\", integer)\n",
        "integer"
      ],
      "metadata": {
        "id": "AGclIgN5asiu",
        "outputId": "ba8ba971-5978-43f1-b164-45e37790e5fd",
        "colab": {
          "base_uri": "https://localhost:8080/",
          "height": 235
        }
      },
      "execution_count": 33,
      "outputs": [
        {
          "output_type": "error",
          "ename": "TypeError",
          "evalue": "ignored",
          "traceback": [
            "\u001b[0;31m---------------------------------------------------------------------------\u001b[0m",
            "\u001b[0;31mTypeError\u001b[0m                                 Traceback (most recent call last)",
            "\u001b[0;32m<ipython-input-33-d476320c9769>\u001b[0m in \u001b[0;36m<module>\u001b[0;34m()\u001b[0m\n\u001b[1;32m      2\u001b[0m \u001b[0mNumbers\u001b[0m\u001b[0;34m=\u001b[0m\u001b[0;34m[\u001b[0m\u001b[0;36m1\u001b[0m\u001b[0;34m,\u001b[0m\u001b[0;36m5\u001b[0m\u001b[0;34m,\u001b[0m\u001b[0;36m10\u001b[0m\u001b[0;34m,\u001b[0m\u001b[0;36m50\u001b[0m\u001b[0;34m,\u001b[0m\u001b[0;36m100\u001b[0m\u001b[0;34m,\u001b[0m\u001b[0;36m500\u001b[0m\u001b[0;34m,\u001b[0m\u001b[0;36m1000\u001b[0m\u001b[0;34m]\u001b[0m\u001b[0;34m\u001b[0m\u001b[0;34m\u001b[0m\u001b[0m\n\u001b[1;32m      3\u001b[0m \u001b[0mstring\u001b[0m\u001b[0;34m=\u001b[0m\u001b[0;34m\"IV\"\u001b[0m\u001b[0;34m\u001b[0m\u001b[0;34m\u001b[0m\u001b[0m\n\u001b[0;32m----> 4\u001b[0;31m \u001b[0ms\u001b[0m\u001b[0;34m=\u001b[0m\u001b[0mlist\u001b[0m\u001b[0;34m(\u001b[0m\u001b[0mstring\u001b[0m\u001b[0;34m)\u001b[0m\u001b[0;34m\u001b[0m\u001b[0;34m\u001b[0m\u001b[0m\n\u001b[0m\u001b[1;32m      5\u001b[0m \u001b[0;31m# last=s[-1]\u001b[0m\u001b[0;34m\u001b[0m\u001b[0;34m\u001b[0m\u001b[0;34m\u001b[0m\u001b[0m\n\u001b[1;32m      6\u001b[0m \u001b[0;31m# index=Romans.index(last)\u001b[0m\u001b[0;34m\u001b[0m\u001b[0;34m\u001b[0m\u001b[0;34m\u001b[0m\u001b[0m\n",
            "\u001b[0;31mTypeError\u001b[0m: 'list' object is not callable"
          ]
        }
      ]
    }
  ]
}