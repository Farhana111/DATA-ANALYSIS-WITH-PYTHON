{
  "nbformat": 4,
  "nbformat_minor": 0,
  "metadata": {
    "colab": {
      "name": "Untitled2.ipynb",
      "provenance": [],
      "authorship_tag": "ABX9TyNbUIDKZomeXh7+Yxidk28b",
      "include_colab_link": true
    },
    "kernelspec": {
      "name": "python3",
      "display_name": "Python 3"
    },
    "language_info": {
      "name": "python"
    }
  },
  "cells": [
    {
      "cell_type": "markdown",
      "metadata": {
        "id": "view-in-github",
        "colab_type": "text"
      },
      "source": [
        "<a href=\"https://colab.research.google.com/github/Farhana111/DATA-ANALYSIS-WITH-PYTHON/blob/main/lecture_04_fad.ipynb\" target=\"_parent\"><img src=\"https://colab.research.google.com/assets/colab-badge.svg\" alt=\"Open In Colab\"/></a>"
      ]
    },
    {
      "cell_type": "code",
      "execution_count": null,
      "metadata": {
        "id": "dmcz1YMKPSNf"
      },
      "outputs": [],
      "source": [
        ""
      ]
    },
    {
      "cell_type": "markdown",
      "source": [
        ""
      ],
      "metadata": {
        "id": "sKRsUMvhQCvB"
      }
    },
    {
      "cell_type": "markdown",
      "source": [
        "How to find the index of a specific character in a string?"
      ],
      "metadata": {
        "id": "VX0599LDPTiP"
      }
    },
    {
      "cell_type": "code",
      "source": [
        "text = \"Happy New Year\"\n",
        "print(text.find(\"y\"))\n",
        "print(text.index(\"a\"))\n"
      ],
      "metadata": {
        "colab": {
          "base_uri": "https://localhost:8080/"
        },
        "id": "QMi6q-e-ParC",
        "outputId": "6fb5cc71-5461-4172-9a58-48c9a6a2aedf"
      },
      "execution_count": null,
      "outputs": [
        {
          "output_type": "stream",
          "name": "stdout",
          "text": [
            "4\n",
            "1\n"
          ]
        }
      ]
    },
    {
      "cell_type": "markdown",
      "source": [
        "How to convert a string into lower case and upper case characters?"
      ],
      "metadata": {
        "id": "p82TsdFEQEgw"
      }
    },
    {
      "cell_type": "code",
      "source": [
        "name = \"ShakibAlHasan\"\n",
        "print(name.lower())\n",
        "print(name.upper())"
      ],
      "metadata": {
        "id": "YZMAL5gzQNRS",
        "outputId": "18a7a1c4-38de-46af-f55d-b125440b88f5",
        "colab": {
          "base_uri": "https://localhost:8080/"
        }
      },
      "execution_count": 2,
      "outputs": [
        {
          "output_type": "stream",
          "name": "stdout",
          "text": [
            "shakibalhasan\n",
            "SHAKIBALHASAN\n"
          ]
        }
      ]
    },
    {
      "cell_type": "code",
      "source": [
        ""
      ],
      "metadata": {
        "id": "c0YJUlstQuXt"
      },
      "execution_count": null,
      "outputs": []
    },
    {
      "cell_type": "markdown",
      "source": [
        "NLP: Natural Language Processing\n",
        "\n",
        "I eat rice.\n",
        "Eating rice regularly is not a good habit.\n",
        "\n",
        "eat, ate, eaten => eat\n",
        "\n"
      ],
      "metadata": {
        "id": "qwnPSK97RKJm"
      }
    },
    {
      "cell_type": "code",
      "source": [
        "print(\"electrical engineering\" == \"Electrical Engineering\".lower())\n",
        "print(\"electrical engineering \".rstrip()==\"Electrical Engineering\".lower())\n",
        "print(\"  electrical engineering\".lstrip()==\"Electrical Engineering\".lower())"
      ],
      "metadata": {
        "id": "n-s_j6oaRLsY",
        "outputId": "86183a0a-9318-44d7-f38a-f7e9013f350e",
        "colab": {
          "base_uri": "https://localhost:8080/"
        }
      },
      "execution_count": 9,
      "outputs": [
        {
          "output_type": "stream",
          "name": "stdout",
          "text": [
            "True\n",
            "True\n",
            "True\n"
          ]
        }
      ]
    },
    {
      "cell_type": "markdown",
      "source": [
        "How to remove spaces from a string?"
      ],
      "metadata": {
        "id": "zisw5d0bTcbp"
      }
    },
    {
      "cell_type": "code",
      "source": [
        "print(\"electrical engineering \".rstrip()==\"Electrical Engineering\".lower())\n",
        "print(\"  electrical engineering\".lstrip()==\"Electrical Engineering\".lower())"
      ],
      "metadata": {
        "id": "c2x6OP_bTha6"
      },
      "execution_count": null,
      "outputs": []
    },
    {
      "cell_type": "markdown",
      "source": [
        "How to replace a substring inside a string?"
      ],
      "metadata": {
        "id": "Vw5tEGiKTn7K"
      }
    },
    {
      "cell_type": "code",
      "source": [
        "text = \" Haqqy New Year\"\n",
        "print (text.replace(\"q\",\"p\"))\n"
      ],
      "metadata": {
        "colab": {
          "base_uri": "https://localhost:8080/"
        },
        "id": "OUDq5JWWTs-H",
        "outputId": "99327dd6-e644-4a53-907c-931ba90091a7"
      },
      "execution_count": 10,
      "outputs": [
        {
          "output_type": "stream",
          "name": "stdout",
          "text": [
            " Happy New Year\n"
          ]
        }
      ]
    },
    {
      "cell_type": "code",
      "source": [
        "text = \" HaPPy New Year\"\n",
        "print (text.replace(\"P\",\"p\"))"
      ],
      "metadata": {
        "outputId": "68907b77-616e-466f-f1d4-078be9ec0351",
        "colab": {
          "base_uri": "https://localhost:8080/"
        },
        "id": "QT-_wW08T-1U"
      },
      "execution_count": 11,
      "outputs": [
        {
          "output_type": "stream",
          "name": "stdout",
          "text": [
            " Happy New Year\n"
          ]
        }
      ]
    },
    {
      "cell_type": "code",
      "source": [
        "text = \"electrical engineering\"\n",
        "print(text.capitalize())\n",
        "print(text.replace(\"engineering\", \"Engineering\"))"
      ],
      "metadata": {
        "id": "4OCVRhJtUV6o",
        "outputId": "b92e1cb3-6773-4b96-88db-2d60ccf8918a",
        "colab": {
          "base_uri": "https://localhost:8080/"
        }
      },
      "execution_count": 13,
      "outputs": [
        {
          "output_type": "stream",
          "name": "stdout",
          "text": [
            "Electrical engineering\n",
            "electrical Engineering\n"
          ]
        }
      ]
    },
    {
      "cell_type": "markdown",
      "source": [
        "How to find the presence of an alphanumeric character, alphabet or digit?"
      ],
      "metadata": {
        "id": "Pu0kaaOvUyai"
      }
    },
    {
      "cell_type": "code",
      "source": [
        "name = \"ShakibAlHassan100\"\n",
        "name1 = \"shakibalhassan100\"\n",
        "print(name.isalnum())\n",
        "print(name.isalpha())\n",
        "print(name.isupper())\n",
        "print(name1.islower())"
      ],
      "metadata": {
        "id": "Ww5DBF42VAIk",
        "outputId": "a10dc565-de8e-4894-e678-36eaa30a8ae8",
        "colab": {
          "base_uri": "https://localhost:8080/"
        }
      },
      "execution_count": 22,
      "outputs": [
        {
          "output_type": "stream",
          "name": "stdout",
          "text": [
            "True\n",
            "False\n",
            "False\n",
            "True\n"
          ]
        }
      ]
    },
    {
      "cell_type": "code",
      "source": [
        "name = \"ShakibAlHassan100?\"\n",
        "print(name.isalnum())\n",
        "print(name.isdigit())"
      ],
      "metadata": {
        "id": "yzt4CMDDVSYx",
        "outputId": "7d4d6a81-0303-4bc2-9f0c-b3ac29db0b08",
        "colab": {
          "base_uri": "https://localhost:8080/"
        }
      },
      "execution_count": 16,
      "outputs": [
        {
          "output_type": "stream",
          "name": "stdout",
          "text": [
            "False\n",
            "False\n"
          ]
        }
      ]
    },
    {
      "cell_type": "code",
      "source": [
        "name = \"109100\"\n",
        "print(name.isalnum())\n",
        "print(name.isdigit())"
      ],
      "metadata": {
        "id": "IChfn_m0VfPW",
        "outputId": "d89b6de1-840c-4530-9c79-7440a8d4e607",
        "colab": {
          "base_uri": "https://localhost:8080/"
        }
      },
      "execution_count": 18,
      "outputs": [
        {
          "output_type": "stream",
          "name": "stdout",
          "text": [
            "True\n",
            "True\n"
          ]
        }
      ]
    }
  ]
}