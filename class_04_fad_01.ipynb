{
  "nbformat": 4,
  "nbformat_minor": 0,
  "metadata": {
    "colab": {
      "name": "Untitled3.ipynb",
      "provenance": [],
      "authorship_tag": "ABX9TyNQqge1wltY/pafSkwkCpej",
      "include_colab_link": true
    },
    "kernelspec": {
      "name": "python3",
      "display_name": "Python 3"
    },
    "language_info": {
      "name": "python"
    }
  },
  "cells": [
    {
      "cell_type": "markdown",
      "metadata": {
        "id": "view-in-github",
        "colab_type": "text"
      },
      "source": [
        "<a href=\"https://colab.research.google.com/github/Farhana111/DATA-ANALYSIS-WITH-PYTHON/blob/main/class_04_fad_01.ipynb\" target=\"_parent\"><img src=\"https://colab.research.google.com/assets/colab-badge.svg\" alt=\"Open In Colab\"/></a>"
      ]
    },
    {
      "cell_type": "code",
      "execution_count": null,
      "metadata": {
        "id": "KLDsAShzXomx"
      },
      "outputs": [],
      "source": [
        ""
      ]
    },
    {
      "cell_type": "markdown",
      "source": [
        "Lecture:04: Python Data Structure"
      ],
      "metadata": {
        "id": "HnaFQu32XvIK"
      }
    },
    {
      "cell_type": "markdown",
      "source": [
        "List Manipulation\n",
        "  .Change list elements\n",
        "  .Add list elemements\n",
        "  .Remove list elements"
      ],
      "metadata": {
        "id": "UNXCRoHtX2rh"
      }
    },
    {
      "cell_type": "code",
      "source": [
        "family = (\"abbu\", 5.6, \"ammu\", 5.2, \"vaia\", 6, \"apu\", 5.2, \"ami\", 5, \"wife\",5.1)\n",
        "family = [\"abbu\", 5.6, \"ammu\", 5.2, \"vaia\", 6, \"apu\", 5.2, \"ami\", 5, \"wife\",5.1]\n",
        "print(type(family))"
      ],
      "metadata": {
        "colab": {
          "base_uri": "https://localhost:8080/"
        },
        "id": "DB9S6jIkZ75W",
        "outputId": "ec93560b-317c-4a60-c368-fe60159ff769"
      },
      "execution_count": 21,
      "outputs": [
        {
          "output_type": "stream",
          "name": "stdout",
          "text": [
            "<class 'list'>\n"
          ]
        }
      ]
    },
    {
      "cell_type": "markdown",
      "source": [
        "List Slicing"
      ],
      "metadata": {
        "id": "On7W98aAcXZu"
      }
    },
    {
      "cell_type": "code",
      "source": [
        "family[4:6]\n",
        "family[-2:]\n",
        "print(family[:5])\n",
        "print(len(family))\n"
      ],
      "metadata": {
        "colab": {
          "base_uri": "https://localhost:8080/"
        },
        "id": "sQ-86znJceQW",
        "outputId": "ae73565c-b4e0-4866-83c7-c716f97a38dd"
      },
      "execution_count": 22,
      "outputs": [
        {
          "output_type": "stream",
          "name": "stdout",
          "text": [
            "['abbu', 5.6, 'ammu', 5.2, 'vaia']\n",
            "12\n"
          ]
        }
      ]
    },
    {
      "cell_type": "markdown",
      "source": [
        "checking length of list"
      ],
      "metadata": {
        "id": "nFF64TGdeaGu"
      }
    },
    {
      "cell_type": "markdown",
      "source": [
        "checking presence of an element in a list"
      ],
      "metadata": {
        "id": "2xgv0IxRecwT"
      }
    },
    {
      "cell_type": "code",
      "source": [
        "print(\"abbu\" in family)\n",
        "print(\"chotovai\" in family)\n",
        "family.append(\"chotovai\")\n",
        "family.append(5.9)\n",
        "family.reverse()\n",
        "print(family)"
      ],
      "metadata": {
        "colab": {
          "base_uri": "https://localhost:8080/"
        },
        "id": "FT4C945GeiXm",
        "outputId": "9410bbe4-9a06-4d6c-dcdd-afbf31e1f10c"
      },
      "execution_count": 23,
      "outputs": [
        {
          "output_type": "stream",
          "name": "stdout",
          "text": [
            "True\n",
            "False\n",
            "[5.9, 'chotovai', 5.1, 'wife', 5, 'ami', 5.2, 'apu', 6, 'vaia', 5.2, 'ammu', 5.6, 'abbu']\n"
          ]
        }
      ]
    },
    {
      "cell_type": "markdown",
      "source": [
        "How to revese a list?\n",
        "\n"
      ],
      "metadata": {
        "id": "B6JvcXOYkWPv"
      }
    },
    {
      "cell_type": "code",
      "source": [
        "family.reverse()\n",
        "print(family)\n",
        "\n",
        "new_members = [\"baccha_1\",2,\"kacha_1\",1]\n",
        "\n",
        "print(family+new_members)"
      ],
      "metadata": {
        "colab": {
          "base_uri": "https://localhost:8080/"
        },
        "id": "oZYYy542jT7o",
        "outputId": "df066fd8-40af-42e6-a550-190cb1608c7e"
      },
      "execution_count": null,
      "outputs": [
        {
          "output_type": "stream",
          "name": "stdout",
          "text": [
            "['abbu', 5.6, 'ammu', 5.2, 'vaia', 6, 'apu', 5.2, 'ami', 5, 'wife', 5.1, 'chotovai', 5.9]\n",
            "['abbu', 5.6, 'ammu', 5.2, 'vaia', 6, 'apu', 5.2, 'ami', 5, 'wife', 5.1, 'chotovai', 5.9, 'baccha_1', 2, 'kacha_1', 1]\n"
          ]
        }
      ]
    },
    {
      "cell_type": "markdown",
      "source": [
        "How to find the minimum value, maximum value and total sum of a list?"
      ],
      "metadata": {
        "id": "eg9x45orlbBj"
      }
    },
    {
      "cell_type": "code",
      "source": [
        "even = [2,4,6,0,-2,10]\n",
        "type(even)\n",
        "sum(even)\n",
        "max(even)\n",
        "min(even)"
      ],
      "metadata": {
        "colab": {
          "base_uri": "https://localhost:8080/"
        },
        "id": "BnLLQXFgliDS",
        "outputId": "ea164667-f95d-4a68-b5f4-1dcf5d5ea01a"
      },
      "execution_count": 51,
      "outputs": [
        {
          "output_type": "execute_result",
          "data": {
            "text/plain": [
              "-2"
            ]
          },
          "metadata": {},
          "execution_count": 51
        }
      ]
    },
    {
      "cell_type": "markdown",
      "source": [
        "What will happen if you add two lists?"
      ],
      "metadata": {
        "id": "7zkJbmNUlFf8"
      }
    },
    {
      "cell_type": "code",
      "source": [
        "list_A = [1,2,3]\n",
        "list_B = [4,5,6]\n",
        "\n",
        "print(list_A+list_B)\n"
      ],
      "metadata": {
        "colab": {
          "base_uri": "https://localhost:8080/"
        },
        "id": "3zjhscvajzSh",
        "outputId": "7c1e9505-8730-465f-daca-b780c29846d9"
      },
      "execution_count": 29,
      "outputs": [
        {
          "output_type": "stream",
          "name": "stdout",
          "text": [
            "[1, 2, 3, 4, 5, 6]\n"
          ]
        }
      ]
    },
    {
      "cell_type": "markdown",
      "source": [
        "How to sort a list?"
      ],
      "metadata": {
        "id": "knwwlhN8f0v4"
      }
    },
    {
      "cell_type": "code",
      "source": [
        "even = [2,4,6,0,-2,10]\n",
        "print(sorted(even,reverse=True))\n",
        "print(sorted(even,reverse=False))\n"
      ],
      "metadata": {
        "colab": {
          "base_uri": "https://localhost:8080/"
        },
        "id": "xuhZKRoif8rt",
        "outputId": "97ff2553-af09-40a3-bb02-9e76b9d8bcb0"
      },
      "execution_count": 25,
      "outputs": [
        {
          "output_type": "stream",
          "name": "stdout",
          "text": [
            "[10, 6, 4, 2, 0, -2]\n",
            "[-2, 0, 2, 4, 6, 10]\n"
          ]
        }
      ]
    }
  ]
}